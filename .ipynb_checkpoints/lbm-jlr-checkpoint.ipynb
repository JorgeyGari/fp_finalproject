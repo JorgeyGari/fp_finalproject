{
 "cells": [
  {
   "cell_type": "markdown",
   "id": "66f15abb",
   "metadata": {},
   "source": [
    "# Final Project: Functional Programming\n",
    "\n",
    "**Laura Belizón Merchán** - 100452273  \n",
    "**Jorge Lázaro Ruiz** - 100452172  \n",
    "*Degree in Applied Mathematics and Computation*"
   ]
  }
 ],
 "metadata": {
  "kernelspec": {
   "display_name": "Haskell",
   "language": "haskell",
   "name": "haskell"
  },
  "language_info": {
   "codemirror_mode": "ihaskell",
   "file_extension": ".hs",
   "mimetype": "text/x-haskell",
   "name": "haskell",
   "pygments_lexer": "Haskell",
   "version": "9.2.8"
  }
 },
 "nbformat": 4,
 "nbformat_minor": 5
}
