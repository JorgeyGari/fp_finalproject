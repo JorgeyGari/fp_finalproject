{
 "cells": [
  {
   "cell_type": "markdown",
   "id": "66f15abb",
   "metadata": {},
   "source": [
    "# Final Project: Functional Programming\n",
    "\n",
    "**Laura Belizón Merchán** - 100452273  \n",
    "**Jorge Lázaro Ruiz** - 100452172  \n",
    "*Degree in Applied Mathematics and Computation*"
   ]
  },
  {
   "cell_type": "markdown",
   "id": "76f435fa",
   "metadata": {},
   "source": [
    "## Brief summary"
   ]
  },
  {
   "cell_type": "markdown",
   "id": "7de95d62",
   "metadata": {},
   "source": [
    "## Types\n",
    "\n",
    "> 1. Types to represent all the former concepts. An exhaustive type definition is required, use the most appropriate way (type, data, newtype) for each of them.\n",
    "\n",
    "An agenda is described as a list of events, so it makes sense to center the type definitions around the characteristics of an event.\n",
    "\n",
    "For this, we can create the different types of descriptors defined and then use them for the constructor of an event."
   ]
  },
  {
   "cell_type": "code",
   "execution_count": 1,
   "id": "2cab29f6",
   "metadata": {},
   "outputs": [],
   "source": [
    "type Name = String\n",
    "data Type = Personal | Health | Work | Management deriving Show\n",
    "data Date = Date {day :: Int, month :: String, year :: Int, workday :: Bool} deriving Show\n",
    "data Time = Time {start :: (Int, Int), end :: (Int, Int), duration :: Maybe Int} deriving Show\n",
    "newtype Participants = Participants [Name]\n",
    "data Repetitions = Punctual | Daily | Weekday | Weekly | Int deriving Show"
   ]
  },
  {
   "cell_type": "markdown",
   "id": "ab050312",
   "metadata": {},
   "source": [
    "* `Name` is just an alias for a `String`, as there are no spectial requirements for it.\n",
    "* `Type` and `Repetitions` need to be instances of class `Show` if we want to be able to print them, and since they can only take a set of values we must define them as a `data`.\n",
    "* `Date` and `Time` require a constructor with multiple parameters, hence we use `data` to define them. They also have to be instances of class `Show` so we can pretty-print them.\n",
    "* `Participants` could be defined as an alias for `[Name]` but in order to avoid confusion with just any other list of strings, we decided to make it into a `newtype` to distinguish it and prevent unintended operations with other lists of strings."
   ]
  },
  {
   "cell_type": "code",
   "execution_count": 2,
   "id": "9f3e9914",
   "metadata": {},
   "outputs": [],
   "source": [
    "data Event = Event {\n",
    "                    name :: Name,\n",
    "                    eventType :: Type,\n",
    "                    date :: Maybe Date,\n",
    "                    time :: Time,\n",
    "                    participants :: Participants,\n",
    "                    repetitions :: Repetitions\n",
    "                    }"
   ]
  },
  {
   "cell_type": "markdown",
   "id": "11827f33",
   "metadata": {},
   "source": [
    "With all the types defined, all we need to do is to create the `Event` constructor. Because `date` is not required, it is defined as a `Maybe`."
   ]
  },
  {
   "cell_type": "markdown",
   "id": "e2ac89ac",
   "metadata": {},
   "source": [
    "## Event display\n",
    "\n",
    "> 2. A function to show the events in a pretty way, following the order of descriptors as presented above.\n",
    "\n",
    "For this we can overload the `show` function."
   ]
  },
  {
   "cell_type": "code",
   "execution_count": 30,
   "id": "52a60ebb",
   "metadata": {
    "scrolled": true
   },
   "outputs": [
    {
     "data": {
      "text/plain": [
       "\"Event: Sample Event | Type: Personal | Time: 10:30 - 12:00\""
      ]
     },
     "metadata": {},
     "output_type": "display_data"
    }
   ],
   "source": [
    "instance Show Event where\n",
    "    show (Event name eventType date time participants repetitions) =\n",
    "        \"Event: \" ++ name ++\n",
    "        \" | Type: \" ++ show eventType ++\n",
    "--         showDate date ++\n",
    "        showTime time -- ++\n",
    "--         \"Participants: \" ++ unwords participants ++\n",
    "--         showRepetitions repetitions\n",
    "        where\n",
    "--             showDate :: Maybe Date -> String\n",
    "--             showDate Nothing = \"\"\n",
    "--             showDate Just (day, month, year, workday) =\n",
    "--                 \"\\nDate: \" ++ show day ++ \" \" ++ month ++ \" \" ++ show year ++ (if workday then \" (Workday)\" else \"\")\n",
    "        \n",
    "            leadingZeros :: Int -> String\n",
    "            leadingZeros n\n",
    "                | n < 10 = '0' : show n\n",
    "                | otherwise = show n\n",
    "            \n",
    "            timeToMinutes :: (Int, Int) -> Int\n",
    "            timeToMinutes (hours, minutes) = hours * 60 + minutes\n",
    "\n",
    "            timeDifference :: (Int, Int) -> (Int, Int) -> Int\n",
    "            timeDifference (hours1, minutes1) (hours2, minutes2) = abs (timeToMinutes (hours1, minutes1) - timeToMinutes (hours2, minutes2))\n",
    "            \n",
    "            findDuration :: Time -> Int\n",
    "            findDuration (Time (startH, startM) (endH, endM) duration) =\n",
    "                case duration of\n",
    "                    Nothing -> timeDifference (startH, startM) (endH, endM)\n",
    "                    Just d  -> d\n",
    "\n",
    "            showTime :: Time -> String\n",
    "            showTime (Time (startH, startM) (endH, endM) duration) =\n",
    "                case duration of\n",
    "                    Nothing -> \" | Time: \" ++ leadingZeros startH ++ \":\" ++ leadingZeros startM ++\n",
    "                                \" - \" ++ leadingZeros endH ++ \":\" ++ leadingZeros endM -- missing duration\n",
    "                    Just dur -> \" | Time: \" ++ leadingZeros startH ++ \":\" ++ leadingZeros startM ++\n",
    "                                \" - \" ++ leadingZeros endH ++ \":\" ++ leadingZeros endM ++ show dur\n",
    "\n",
    "\n",
    "-- Define an example Event\n",
    "exampleEvent :: Event\n",
    "exampleEvent = Event\n",
    "  { name = \"Sample Event\"\n",
    "  , eventType = Personal\n",
    "  , date = Just (Date 11 \"November\" 2023 True)\n",
    "  , time = Time { start = (10, 30), end = (12, 0), duration = Nothing }\n",
    "  , participants = Participants [\"Alice\", \"Bob\"]\n",
    "  , repetitions = Weekly\n",
    "  }\n",
    "\n",
    "show exampleEvent"
   ]
  }
 ],
 "metadata": {
  "kernelspec": {
   "display_name": "Haskell",
   "language": "haskell",
   "name": "haskell"
  },
  "language_info": {
   "codemirror_mode": "ihaskell",
   "file_extension": ".hs",
   "mimetype": "text/x-haskell",
   "name": "haskell",
   "pygments_lexer": "Haskell",
   "version": "9.2.8"
  }
 },
 "nbformat": 4,
 "nbformat_minor": 5
}
