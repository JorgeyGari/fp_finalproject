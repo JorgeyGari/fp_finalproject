{
 "cells": [
  {
   "cell_type": "markdown",
   "id": "66f15abb",
   "metadata": {},
   "source": [
    "# Final Project: Functional Programming\n",
    "\n",
    "**Laura Belizón Merchán** - 100452273  \n",
    "**Jorge Lázaro Ruiz** - 100452172  \n",
    "*Degree in Applied Mathematics and Computation*"
   ]
  },
  {
   "cell_type": "markdown",
   "id": "76f435fa",
   "metadata": {},
   "source": [
    "## Brief summary"
   ]
  },
  {
   "cell_type": "markdown",
   "id": "a9f22a12",
   "metadata": {},
   "source": [
    "*Pending...*"
   ]
  },
  {
   "cell_type": "code",
   "execution_count": 1,
   "id": "41bb46c1",
   "metadata": {},
   "outputs": [],
   "source": [
    "-- Necessary imports\n",
    "import Data.Maybe (fromJust)\n",
    "import Data.List (intercalate, find)"
   ]
  },
  {
   "cell_type": "markdown",
   "id": "7de95d62",
   "metadata": {},
   "source": [
    "## Types\n",
    "\n",
    "> 1. Types to represent all the former concepts. An exhaustive type definition is required, use the most appropriate way (type, data, newtype) for each of them.\n",
    "\n",
    "An agenda is described as a list of events, so it makes sense to center the type definitions around the characteristics of an event.\n",
    "\n",
    "For this, we can create the different types of descriptors defined and then use them for the constructor of an event."
   ]
  },
  {
   "cell_type": "code",
   "execution_count": 2,
   "id": "2cab29f6",
   "metadata": {
    "scrolled": true
   },
   "outputs": [],
   "source": [
    "type Name = String\n",
    "data Type = Personal | Health | Work | Management\n",
    "data Date = Date {day :: Int, month :: String, year :: Int, workday :: Bool}\n",
    "data Time = Time {start :: (Int, Int), end :: (Int, Int), duration :: Maybe Int}\n",
    "newtype Participants = Participants [Name]\n",
    "data Repetitions = Punctual | Daily Int | Weekday Int | Weekly Int"
   ]
  },
  {
   "cell_type": "markdown",
   "id": "ab050312",
   "metadata": {},
   "source": [
    "* `Name` is just an alias for a `String`, as there are no spectial requirements for it.\n",
    "* `Type` and `Repetitions` need to be instances of class `Show` if we want to be able to print them, and since they can only take a set of values we must define them as a `data`.\n",
    "* `Date` and `Time` require a constructor with multiple parameters, hence we use `data` to define them. They also have to be instances of class `Show` so we can pretty-print them.\n",
    "* `Participants` could be defined as an alias for `[Name]` but in order to avoid confusion with just any other list of strings, we decided to make it into a `newtype` to distinguish it and prevent unintended operations with other lists of strings."
   ]
  },
  {
   "cell_type": "markdown",
   "id": "e1b1de03",
   "metadata": {},
   "source": [
    "Because we will need to display this to the user, we declare each type as a `Show` instance and define `show` for each one."
   ]
  },
  {
   "cell_type": "code",
   "execution_count": 3,
   "id": "a570d583",
   "metadata": {},
   "outputs": [],
   "source": [
    "instance Show Type where\n",
    "    show Personal = \"Personal\"\n",
    "    show Health = \"Health\"\n",
    "    show Work = \"Work\"\n",
    "    show Management = \"Management\"\n",
    "\n",
    "instance Show Date where\n",
    "    show (Date day month year workday) = show day ++ \" \" ++ month ++ \" \" ++ show year ++ \" \" ++\n",
    "        if workday then \"(Workday)\" else \"\"\n",
    "\n",
    "leadingZero :: Int -> String\n",
    "leadingZero n = if n < 10 then \"0\" ++ show n else show n\n",
    "\n",
    "instance Show Time where\n",
    "    show (Time (startHour, startMinute) (endHour, endMinute) duration) = \n",
    "        show startHour ++ \":\" ++ leadingZero startMinute ++ \" - \" ++ \n",
    "        show endHour ++ \":\" ++ leadingZero endMinute ++ \n",
    "        maybe \"\" (\\d -> \"  (Duration: \" ++ show d ++ \" minutes)\") duration\n",
    "\n",
    "instance Show Participants where\n",
    "    show (Participants names) = intercalate \", \" names\n",
    "\n",
    "instance Show Repetitions where\n",
    "    show Punctual = \"Punctual\"\n",
    "    show (Daily n) = \"Daily \" ++ show n\n",
    "    show (Weekday n) = \"Weekday \" ++ show n\n",
    "    show (Weekly n) = \"Weekly \" ++ show n"
   ]
  },
  {
   "cell_type": "markdown",
   "id": "c4fb253c",
   "metadata": {},
   "source": [
    "Because we will need to compare dates and times, we declare each one as an `Eq` instance and define `==` for each one."
   ]
  },
  {
   "cell_type": "code",
   "execution_count": 4,
   "id": "06b0c8e1",
   "metadata": {},
   "outputs": [],
   "source": [
    "instance Eq Date where\n",
    "    (Date day1 month1 year1 _) == (Date day2 month2 year2 _) = \n",
    "        day1 == day2 && month1 == month2 && year1 == year2\n",
    "\n",
    "instance Eq Time where\n",
    "    (Time (startHour1, startMinute1) (endHour1, endMinute1) _) == \n",
    "        (Time (startHour2, startMinute2) (endHour2, endMinute2) _) = \n",
    "            startHour1 == startHour2 && startMinute1 == startMinute2 && \n",
    "            endHour1 == endHour2 && endMinute1 == endMinute2"
   ]
  },
  {
   "cell_type": "code",
   "execution_count": 5,
   "id": "b61b97ed",
   "metadata": {},
   "outputs": [],
   "source": [
    "instance Enum Date where\n",
    "    succ dt@(Date d m y w)\n",
    "        | not (rightMonth dt) || not (rightDay dt) = Date 0 \"Error\" 0 w\n",
    "        | not (rightDay (Date (d+1) m y w)) && not (rightMonth (Date d (intToMonth (monthToInt m + 1)) y w)) = Date 1 \"January\" (y+1) w\n",
    "        | not (rightDay (Date (d+1) m y w)) = Date 1 (intToMonth (monthToInt m + 1)) y w\n",
    "        | otherwise = Date (d+1) m y w\n",
    "    pred dt@(Date d m y w)\n",
    "        | not (rightMonth dt) || not (rightDay dt) = Date 0 \"Error\" 0 w\n",
    "        | not (rightDay (Date (d-1) m y w)) && not (rightMonth (Date d (intToMonth (monthToInt m - 1)) y w)) = Date 31 \"December\" (y-1) w\n",
    "        | not (rightDay (Date (d-1) m y w)) = if m == \"March\" && isleap dt then Date 29 \"February\" y w else if m == \"March\" then Date 28 \"February\" y w else if m `elem` m31 then Date 31 (intToMonth (monthToInt m - 1)) y w else Date 30 (intToMonth (monthToInt m - 1)) y w\n",
    "        | otherwise = Date (d-1) m y w\n",
    "        where m31 = [\"February\", \"April\", \"June\", \"August\", \"September\", \"November\"]\n",
    "\n",
    "rightMonth :: Date -> Bool\n",
    "rightMonth (Date d m y w) = m `elem` months\n",
    "    where months = [\"January\", \"February\", \"March\", \"April\", \"May\", \"June\", \"July\", \"August\", \"September\", \"October\", \"November\", \"December\"]\n",
    "\n",
    "rightDay :: Date -> Bool\n",
    "rightDay dt@(Date d m y w)\n",
    "    | d <= 0 = False\n",
    "    | m == \"February\" && d <= 28 = True\n",
    "    | m == \"February\" && not (isleap dt) && d >= 29 = False\n",
    "    | elem m m31 && d <= 31 = True\n",
    "    | d <= 30 = True\n",
    "    | otherwise = False\n",
    "    where m31 = [\"January\", \"March\", \"May\", \"July\", \"August\", \"October\", \"December\"]\n",
    "\n",
    "isleap :: Date -> Bool\n",
    "isleap (Date d m y w)\n",
    "    | mod y 400 == 0 = True\n",
    "    | mod y 100 == 0 = False\n",
    "    | mod y 4 == 0 = True\n",
    "    | otherwise = False\n",
    "\n",
    "monthToInt :: String -> Int\n",
    "monthToInt month = fromJust $ lookup month (zip months [0..13])\n",
    "    where months = [\"Error\", \"January\", \"February\", \"March\", \"April\", \"May\", \"June\", \"July\", \"August\", \"September\",\n",
    "                    \"October\", \"November\", \"December\", \"Error\"]\n",
    "\n",
    "intToMonth :: Int -> String\n",
    "intToMonth month = fromJust $ lookup month (zip [0..13] months)\n",
    "    where months = [\"Error\", \"January\", \"February\", \"March\", \"April\", \"May\", \"June\", \"July\", \"August\", \"September\",\n",
    "                    \"October\", \"November\", \"December\", \"Error\"]"
   ]
  },
  {
   "cell_type": "markdown",
   "id": "11827f33",
   "metadata": {},
   "source": [
    "With all the types defined, all we need to do is create the type `Descriptor`, with a constructor for each field.  \n",
    "After that, we can define `Event` as a list of `Descriptor`s."
   ]
  },
  {
   "cell_type": "code",
   "execution_count": 6,
   "id": "9f3e9914",
   "metadata": {},
   "outputs": [],
   "source": [
    "data Descriptor =\n",
    "    NameDescriptor Name\n",
    "    | TypeDescriptor Type\n",
    "    | DateDescriptor Date\n",
    "    | TimeDescriptor Time\n",
    "    | ParticipantsDescriptor Participants\n",
    "    | RepetitionsDescriptor Repetitions\n",
    "    deriving Show\n",
    "\n",
    "type Event = [Descriptor]"
   ]
  },
  {
   "cell_type": "markdown",
   "id": "e2ac89ac",
   "metadata": {},
   "source": [
    "## Event display\n",
    "\n",
    "> 2. A function to show the events in a pretty way, following the order of descriptors as presented above."
   ]
  },
  {
   "cell_type": "markdown",
   "id": "6c743bde",
   "metadata": {},
   "source": [
    "Because the `Event` type is just a list of `Descriptor`s with no particular order, we need to sort it before printing it.\n",
    "\n",
    "For this, we created a set of \"getter\" functions that find instances of a given descriptor in a list of descriptors."
   ]
  },
  {
   "cell_type": "code",
   "execution_count": 7,
   "id": "308a577e",
   "metadata": {},
   "outputs": [],
   "source": [
    "getName :: Event -> Name\n",
    "getName event = case find isNameDescriptor event of\n",
    "        Just (NameDescriptor name) -> name\n",
    "        _ -> error \"Event has no name\"\n",
    "    where\n",
    "        isNameDescriptor (NameDescriptor _) = True\n",
    "        isNameDescriptor _ = False\n",
    "\n",
    "getType :: Event -> Type\n",
    "getType event = case find isTypeDescriptor event of\n",
    "        Just (TypeDescriptor type') -> type'\n",
    "        _ -> error \"Event has no type\"\n",
    "    where\n",
    "        isTypeDescriptor (TypeDescriptor _) = True\n",
    "        isTypeDescriptor _ = False\n",
    "\n",
    "getDate :: Event -> Maybe Date\n",
    "getDate event = case find isDateDescriptor event of\n",
    "        Just (DateDescriptor date) -> Just date\n",
    "        _ -> Nothing\n",
    "    where\n",
    "        isDateDescriptor (DateDescriptor _) = True\n",
    "        isDateDescriptor _ = False\n",
    "\n",
    "getTime :: Event -> Maybe Time\n",
    "getTime event = case find isTimeDescriptor event of\n",
    "        Just (TimeDescriptor time) -> Just time\n",
    "        _ -> Nothing\n",
    "    where\n",
    "        isTimeDescriptor (TimeDescriptor _) = True\n",
    "        isTimeDescriptor _ = False\n",
    "\n",
    "getParticipants :: Event -> Participants\n",
    "getParticipants event = case find isParticipantsDescriptor event of\n",
    "        Just (ParticipantsDescriptor participants) -> participants\n",
    "        _ -> error \"Event has no participants\"\n",
    "    where\n",
    "        isParticipantsDescriptor (ParticipantsDescriptor _) = True\n",
    "        isParticipantsDescriptor _ = False\n",
    "\n",
    "getRepetitions :: Event -> Repetitions\n",
    "getRepetitions event = case find isRepetitionsDescriptor event of\n",
    "        Just (RepetitionsDescriptor repetitions) -> repetitions\n",
    "        _ -> error \"Event has no repetitions descriptor\"\n",
    "    where\n",
    "        isRepetitionsDescriptor (RepetitionsDescriptor _) = True\n",
    "        isRepetitionsDescriptor _ = False"
   ]
  },
  {
   "cell_type": "code",
   "execution_count": 8,
   "id": "b1abc898",
   "metadata": {},
   "outputs": [
    {
     "data": {
      "text/plain": [
       "Event:\n",
       "  Name: \"Example\"\n",
       "  Type: Work\n",
       "  Date: 6 December 2023 (Workday)\n",
       "  Time: 10:30 - 12:00  (Duration: 90 minutes)\n",
       "  Participants: John, Alice, Bob\n",
       "  Repetitions: Weekly 2"
      ]
     },
     "metadata": {},
     "output_type": "display_data"
    }
   ],
   "source": [
    "printEvent :: Event -> IO ()\n",
    "printEvent event = do\n",
    "    putStrLn \"Event:\"\n",
    "    putStrLn $ \"  Name: \" ++ show (getName event)\n",
    "    putStrLn $ \"  Type: \" ++ show (getType event)\n",
    "    putStrLn $ \"  Date: \" ++ maybe \"Unknown\" show (getDate event)\n",
    "    putStrLn $ \"  Time: \" ++ maybe \"Unknown\" show (getTime event)\n",
    "    putStrLn $ \"  Participants: \" ++ show (getParticipants event)\n",
    "    putStrLn $ \"  Repetitions: \" ++ show (getRepetitions event)\n",
    "\n",
    "-- Example usage\n",
    "eventName = NameDescriptor \"Example\"\n",
    "eventType = TypeDescriptor Work\n",
    "eventDate = DateDescriptor (Date 6 \"December\" 2023 True)\n",
    "eventTime = TimeDescriptor (Time (10, 30) (12, 0) (Just 90))\n",
    "eventParticipants = ParticipantsDescriptor (Participants [\"John\", \"Alice\", \"Bob\"])\n",
    "eventRepetitions = RepetitionsDescriptor (Weekly 2)\n",
    "exampleEvent = [eventName, eventType, eventDate, eventTime, eventParticipants, eventRepetitions]\n",
    "printEvent exampleEvent"
   ]
  },
  {
   "cell_type": "markdown",
   "id": "6de59683",
   "metadata": {},
   "source": [
    "## Utility functions"
   ]
  },
  {
   "cell_type": "markdown",
   "id": "d11ddbe6",
   "metadata": {},
   "source": [
    "> 3. An `isWorkingDate Date [Date]` function that receives a `Date` and a list of holidays and returns if the day is weekday or weekend/holiday by considering leap years and the fact that 1<sup>st</sup> January 2022 was Saturday."
   ]
  },
  {
   "cell_type": "markdown",
   "id": "61ba4ed8",
   "metadata": {},
   "source": [
    "For this function, we decided to implement the Doomsday algorithm, which allows to compute the day of the week of any given date.\n",
    "\n",
    "For this century, the anchor day must be a tuesday, so we chose the 4th of January of 2022. If we wanted to compute a date on a different century, we would need to change the anchorday (but we assume for now we wont schedule events on the next or the past centuries)."
   ]
  },
  {
   "cell_type": "code",
   "execution_count": 42,
   "id": "9350f49a",
   "metadata": {},
   "outputs": [],
   "source": [
    "calculateDoomsday :: Date -> Int\n",
    "calculateDoomsday dt@(Date d m y w) = mod s 7\n",
    "    where\n",
    "        s = step1 + step2 + step3 + anchorday\n",
    "        step1 = div (mod y 2000) 12    -- times the number 12 fit as a whole into the two last digits of the year number\n",
    "        step2 = mod y 2000 - (step1 * 12)    -- difference between the two last digits of the year number and the product of the multiples of 12 from step1\n",
    "        step3 = div step2 4    -- times the number 4 fit into the result of step2\n",
    "        anchorday = 2    -- Use as anchor day the 4th of January of 2022 (tuesday)"
   ]
  },
  {
   "cell_type": "markdown",
   "id": "843df753",
   "metadata": {},
   "source": [
    "Once we have found out which day of the week is the Doomsday of the year asked, we need to generate a list with all this Doomsdays. That is, the days of the given year which fall for certain in the calculated day of the week."
   ]
  },
  {
   "cell_type": "code",
   "execution_count": 10,
   "id": "df28dff5",
   "metadata": {},
   "outputs": [],
   "source": [
    "generateDoomsdays :: Date -> [Date]\n",
    "generateDoomsdays dt@(Date d m y w)\n",
    "    | isleap dt = [Date 4 \"January\" y w, Date 29 \"February\" y w, Date 7 \"March\" y w, Date 4 \"April\" y w, Date 9 \"May\" y w, Date 6 \"June\" y w, Date 11 \"July\" y w, Date 8 \"August\" y w, Date 5 \"September\" y w, Date 10 \"October\" y w, Date 7 \"November\" y w, Date 12 \"December\" y w]\n",
    "    | otherwise = [Date 3 \"January\" y w, Date 28 \"February\" y w, Date 7 \"March\" y w, Date 4 \"April\" y w, Date 9 \"May\" y w, Date 6 \"June\" y w, Date 11 \"July\" y w, Date 8 \"August\" y w, Date 5 \"September\" y w, Date 10 \"October\" y w, Date 7 \"November\" y w, Date 12 \"December\" y w]"
   ]
  },
  {
   "cell_type": "markdown",
   "id": "161a6b57",
   "metadata": {},
   "source": [
    "The next step is to implement a function which calculates how many days fall between the date we are seeking and the closest Doomsday. In order to do this, we implemented the function recursively."
   ]
  },
  {
   "cell_type": "code",
   "execution_count": 29,
   "id": "8740bea5",
   "metadata": {},
   "outputs": [],
   "source": [
    "doomsday :: Date -> Int\n",
    "doomsday dt\n",
    "    | dt `elem` dd = calculateDoomsday dt\n",
    "    | otherwise = itdoomsday 1 (succ dt)\n",
    "    where dd = generateDoomsdays dt\n",
    "\n",
    "itdoomsday :: Int -> Date -> Int\n",
    "itdoomsday i dt\n",
    "    | dt `elem` dd = calculateDoomsday dt - i\n",
    "    | otherwise = itdoomsday (i+1) (succ dt)\n",
    "    where dd = generateDoomsdays dt"
   ]
  },
  {
   "cell_type": "markdown",
   "id": "de91bf05",
   "metadata": {},
   "source": [
    "Finally, we can check if the date is a holiday, Saturday (6) or Sunday (0), and if it is, return `False`."
   ]
  },
  {
   "cell_type": "code",
   "execution_count": 36,
   "id": "6d99bd05",
   "metadata": {},
   "outputs": [],
   "source": [
    "isWorkingDate :: Date -> [Date] -> Bool\n",
    "isWorkingDate date holidays\n",
    "    | date `elem` holidays = False\n",
    "    | mod (doomsday date) 7 == 6 = False\n",
    "    | mod (doomsday date) 7 == 0 = False\n",
    "    | otherwise = True"
   ]
  },
  {
   "cell_type": "code",
   "execution_count": 51,
   "id": "665f3e2d",
   "metadata": {},
   "outputs": [
    {
     "data": {
      "text/plain": [
       "True"
      ]
     },
     "metadata": {},
     "output_type": "display_data"
    },
    {
     "data": {
      "text/plain": [
       "False"
      ]
     },
     "metadata": {},
     "output_type": "display_data"
    },
    {
     "data": {
      "text/plain": [
       "False"
      ]
     },
     "metadata": {},
     "output_type": "display_data"
    },
    {
     "data": {
      "text/plain": [
       "False"
      ]
     },
     "metadata": {},
     "output_type": "display_data"
    },
    {
     "data": {
      "text/plain": [
       "True"
      ]
     },
     "metadata": {},
     "output_type": "display_data"
    }
   ],
   "source": [
    "isWorkingDate (Date 12 \"December\" 2023 True) [Date 25 \"December\" 2023 True]\n",
    "isWorkingDate (Date 10 \"December\" 2023 True) [Date 25 \"December\" 2023 True]\n",
    "isWorkingDate (Date 25 \"December\" 2023 True) [Date 25 \"December\" 2023 True]\n",
    "isWorkingDate (Date 9 \"December\" 2023 True) [Date 25 \"December\" 2023 True]\n",
    "isWorkingDate (Date 23 \"February\" 2024 True) [Date 25 \"December\" 2023 True]"
   ]
  },
  {
   "cell_type": "code",
   "execution_count": null,
   "id": "34b2163f",
   "metadata": {},
   "outputs": [],
   "source": []
  }
 ],
 "metadata": {
  "kernelspec": {
   "display_name": "Haskell",
   "language": "haskell",
   "name": "haskell"
  },
  "language_info": {
   "codemirror_mode": "ihaskell",
   "file_extension": ".hs",
   "mimetype": "text/x-haskell",
   "name": "haskell",
   "pygments_lexer": "Haskell",
   "version": "9.4.5"
  }
 },
 "nbformat": 4,
 "nbformat_minor": 5
}
