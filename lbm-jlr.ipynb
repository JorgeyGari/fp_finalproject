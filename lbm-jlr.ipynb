{
 "cells": [
  {
   "cell_type": "markdown",
   "id": "66f15abb",
   "metadata": {},
   "source": [
    "# Final Project: Functional Programming\n",
    "\n",
    "**Laura Belizón Merchán** - 100452273  \n",
    "**Jorge Lázaro Ruiz** - 100452172  \n",
    "*Degree in Applied Mathematics and Computation*"
   ]
  },
  {
   "cell_type": "markdown",
   "id": "76f435fa",
   "metadata": {},
   "source": [
    "## Brief summary"
   ]
  },
  {
   "cell_type": "markdown",
   "id": "a9f22a12",
   "metadata": {},
   "source": [
    "*Pending...*"
   ]
  },
  {
   "cell_type": "code",
   "execution_count": null,
   "id": "41bb46c1",
   "metadata": {},
   "outputs": [],
   "source": [
    "-- Necessary imports\n",
    "import Data.Maybe (fromJust)\n",
    "import Data.List (intercalate, find)\n",
    "import Data.Time\n",
    "import Data.Time.Calendar.WeekDate"
   ]
  },
  {
   "cell_type": "markdown",
   "id": "7de95d62",
   "metadata": {},
   "source": [
    "## Types\n",
    "\n",
    "> 1. Types to represent all the former concepts. An exhaustive type definition is required, use the most appropriate way (type, data, newtype) for each of them.\n",
    "\n",
    "An agenda is described as a list of events, so it makes sense to center the type definitions around the characteristics of an event.\n",
    "\n",
    "For this, we can create the different types of descriptors defined and then use them for the constructor of an event."
   ]
  },
  {
   "cell_type": "code",
   "execution_count": null,
   "id": "2cab29f6",
   "metadata": {
    "scrolled": true
   },
   "outputs": [],
   "source": [
    "type Name = String\n",
    "data Type = Personal | Health | Work | Management\n",
    "data Date = Date {day :: Int, month :: String, year :: Int, workday :: Bool}\n",
    "data Time = Time {start :: (Int, Int), end :: (Int, Int), duration :: Maybe Int}\n",
    "newtype Participants = Participants [Name]\n",
    "data Repetitions = Punctual | Daily Int | Weekday Int | Weekly Int"
   ]
  },
  {
   "cell_type": "markdown",
   "id": "ab050312",
   "metadata": {},
   "source": [
    "* `Name` is just an alias for a `String`, as there are no spectial requirements for it.\n",
    "* `Type` and `Repetitions` need to be instances of class `Show` if we want to be able to print them, and since they can only take a set of values we must define them as a `data`.\n",
    "* `Date` and `Time` require a constructor with multiple parameters, hence we use `data` to define them. They also have to be instances of class `Show` so we can pretty-print them.\n",
    "* `Participants` could be defined as an alias for `[Name]` but in order to avoid confusion with just any other list of strings, we decided to make it into a `newtype` to distinguish it and prevent unintended operations with other lists of strings."
   ]
  },
  {
   "cell_type": "markdown",
   "id": "e1b1de03",
   "metadata": {},
   "source": [
    "Because we will need to display this to the user, we declare each type as a `Show` instance and define `show` for each one."
   ]
  },
  {
   "cell_type": "code",
   "execution_count": null,
   "id": "a570d583",
   "metadata": {},
   "outputs": [],
   "source": [
    "instance Show Type where\n",
    "    show Personal = \"Personal\"\n",
    "    show Health = \"Health\"\n",
    "    show Work = \"Work\"\n",
    "    show Management = \"Management\"\n",
    "\n",
    "instance Show Date where\n",
    "    show (Date day month year workday) = show day ++ \" \" ++ month ++ \" \" ++ show year ++ \" \" ++\n",
    "        if workday then \"(Workday)\" else \"\"\n",
    "\n",
    "leadingZero :: Int -> String\n",
    "leadingZero n = if n < 10 then \"0\" ++ show n else show n\n",
    "\n",
    "instance Show Time where\n",
    "    show (Time (startHour, startMinute) (endHour, endMinute) duration) = \n",
    "        show startHour ++ \":\" ++ leadingZero startMinute ++ \" - \" ++ \n",
    "        show endHour ++ \":\" ++ leadingZero endMinute ++ \n",
    "        maybe \"\" (\\d -> \"  (Duration: \" ++ show d ++ \" minutes)\") duration\n",
    "\n",
    "instance Show Participants where\n",
    "    show (Participants names) = intercalate \", \" names\n",
    "\n",
    "instance Show Repetitions where\n",
    "    show Punctual = \"Punctual\"\n",
    "    show (Daily n) = \"Daily \" ++ show n\n",
    "    show (Weekday n) = \"Weekday \" ++ show n\n",
    "    show (Weekly n) = \"Weekly \" ++ show n"
   ]
  },
  {
   "cell_type": "markdown",
   "id": "c4fb253c",
   "metadata": {},
   "source": [
    "Because we will need to compare dates and times, we declare each one as an `Eq` instance and define `==` for each one."
   ]
  },
  {
   "cell_type": "code",
   "execution_count": null,
   "id": "06b0c8e1",
   "metadata": {},
   "outputs": [],
   "source": [
    "instance Eq Date where\n",
    "    (Date day1 month1 year1 _) == (Date day2 month2 year2 _) = \n",
    "        day1 == day2 && month1 == month2 && year1 == year2\n",
    "\n",
    "instance Eq Time where\n",
    "    (Time (startHour1, startMinute1) (endHour1, endMinute1) _) == \n",
    "        (Time (startHour2, startMinute2) (endHour2, endMinute2) _) = \n",
    "            startHour1 == startHour2 && startMinute1 == startMinute2 && \n",
    "            endHour1 == endHour2 && endMinute1 == endMinute2"
   ]
  },
  {
   "cell_type": "markdown",
   "id": "11827f33",
   "metadata": {},
   "source": [
    "With all the types defined, all we need to do is create the type `Descriptor`, with a constructor for each field.  \n",
    "After that, we can define `Event` as a list of `Descriptor`s."
   ]
  },
  {
   "cell_type": "code",
   "execution_count": null,
   "id": "9f3e9914",
   "metadata": {},
   "outputs": [],
   "source": [
    "data Descriptor =\n",
    "    NameDescriptor Name\n",
    "    | TypeDescriptor Type\n",
    "    | DateDescriptor Date\n",
    "    | TimeDescriptor Time\n",
    "    | ParticipantsDescriptor Participants\n",
    "    | RepetitionsDescriptor Repetitions\n",
    "    deriving Show\n",
    "\n",
    "type Event = [Descriptor]"
   ]
  },
  {
   "cell_type": "markdown",
   "id": "e2ac89ac",
   "metadata": {},
   "source": [
    "## Event display\n",
    "\n",
    "> 2. A function to show the events in a pretty way, following the order of descriptors as presented above."
   ]
  },
  {
   "cell_type": "markdown",
   "id": "6c743bde",
   "metadata": {},
   "source": [
    "Because the `Event` type is just a list of `Descriptor`s with no particular order, we need to sort it before printing it.\n",
    "\n",
    "For this, we created a set of \"getter\" functions that find instances of a given descriptor in a list of descriptors."
   ]
  },
  {
   "cell_type": "code",
   "execution_count": null,
   "id": "308a577e",
   "metadata": {},
   "outputs": [],
   "source": [
    "getName :: Event -> Maybe Name\n",
    "getName event = case find isNameDescriptor event of\n",
    "        Just (NameDescriptor name) -> Just name\n",
    "        _ -> Nothing\n",
    "    where\n",
    "        isNameDescriptor (NameDescriptor _) = True\n",
    "        isNameDescriptor _ = False\n",
    "\n",
    "getType :: Event -> Maybe Type\n",
    "getType event = case find isTypeDescriptor event of\n",
    "        Just (TypeDescriptor type') -> Just type'\n",
    "        _ -> Nothing\n",
    "    where\n",
    "        isTypeDescriptor (TypeDescriptor _) = True\n",
    "        isTypeDescriptor _ = False\n",
    "\n",
    "getDate :: Event -> Maybe Date\n",
    "getDate event = case find isDateDescriptor event of\n",
    "        Just (DateDescriptor date) -> Just date\n",
    "        _ -> Nothing\n",
    "    where\n",
    "        isDateDescriptor (DateDescriptor _) = True\n",
    "        isDateDescriptor _ = False\n",
    "\n",
    "getTime :: Event -> Maybe Time\n",
    "getTime event = case find isTimeDescriptor event of\n",
    "        Just (TimeDescriptor time) -> Just time\n",
    "        _ -> Nothing\n",
    "    where\n",
    "        isTimeDescriptor (TimeDescriptor _) = True\n",
    "        isTimeDescriptor _ = False\n",
    "\n",
    "getParticipants :: Event -> Maybe Participants\n",
    "getParticipants event = case find isParticipantsDescriptor event of\n",
    "        Just (ParticipantsDescriptor participants) -> Just participants\n",
    "        _ -> Nothing\n",
    "    where\n",
    "        isParticipantsDescriptor (ParticipantsDescriptor _) = True\n",
    "        isParticipantsDescriptor _ = False\n",
    "\n",
    "getRepetitions :: Event -> Maybe Repetitions\n",
    "getRepetitions event = case find isRepetitionsDescriptor event of\n",
    "        Just (RepetitionsDescriptor repetitions) -> Just repetitions\n",
    "        _ -> Nothing\n",
    "    where\n",
    "        isRepetitionsDescriptor (RepetitionsDescriptor _) = True\n",
    "        isRepetitionsDescriptor _ = False"
   ]
  },
  {
   "cell_type": "code",
   "execution_count": null,
   "id": "b1abc898",
   "metadata": {},
   "outputs": [],
   "source": [
    "printEvent :: Event -> IO ()\n",
    "printEvent event = do\n",
    "    putStrLn \"Event:\"\n",
    "    putStrLn $ \"  Name: \" ++ maybe \"Unknown\" show (getName event)\n",
    "    putStrLn $ \"  Type: \" ++ maybe \"Unknown\" show (getType event)\n",
    "    putStrLn $ \"  Date: \" ++ maybe \"Unknown\" show (getDate event)\n",
    "    putStrLn $ \"  Time: \" ++ maybe \"Unknown\" show (getTime event)\n",
    "    putStrLn $ \"  Participants: \" ++ maybe \"Unknown\" show (getParticipants event)\n",
    "    putStrLn $ \"  Repetitions: \" ++ maybe \"Unknown\" show (getRepetitions event)\n",
    "\n",
    "-- Example usage\n",
    "eventName = NameDescriptor \"Example\"\n",
    "eventType = TypeDescriptor Work\n",
    "eventDate = DateDescriptor (Date 6 \"December\" 2023 True)\n",
    "eventTime = TimeDescriptor (Time (10, 30) (12, 0) (Just 90))\n",
    "eventParticipants = ParticipantsDescriptor (Participants [\"John\", \"Alice\", \"Bob\"])\n",
    "eventRepetitions = RepetitionsDescriptor (Weekly 2)\n",
    "exampleEvent = [eventName, eventType, eventDate, eventTime, eventParticipants, eventRepetitions]\n",
    "printEvent exampleEvent"
   ]
  },
  {
   "cell_type": "markdown",
   "id": "6de59683",
   "metadata": {},
   "source": [
    "## Utility functions"
   ]
  },
  {
   "cell_type": "markdown",
   "id": "d11ddbe6",
   "metadata": {},
   "source": [
    "> 3. An `isWorkingDate Date [Date]` function that receives a `Date` and a list of holidays and returns if the day is weekday or weekend/holiday by considering leap years and the fact that 1<sup>st</sup> January 2022 was Saturday."
   ]
  },
  {
   "cell_type": "markdown",
   "id": "61ba4ed8",
   "metadata": {},
   "source": [
    "To do this, we can use `Data.Time.Calendar`'s `dayOfWeek` function to get the day of the week of a given date.\n",
    "\n",
    "Since our `Date` type is different from the `Day` in the module, we need to convert it using a custom `toDay` function.\n",
    "\n",
    "Then, we can check if the date is a Saturday or Sunday, and if it is, return `False`."
   ]
  },
  {
   "cell_type": "code",
   "execution_count": null,
   "id": "2296cb45",
   "metadata": {},
   "outputs": [],
   "source": [
    "toDay :: Date -> Day\n",
    "toDay (Date d m y _) = fromGregorian (toInteger y) (monthToInt m) d\n",
    "\n",
    "monthToInt :: String -> Int\n",
    "monthToInt month = fromJust $ lookup month (zip months [1..12])\n",
    "    where months = [\"January\", \"February\", \"March\", \"April\", \"May\", \"June\", \"July\", \"August\", \"September\",\n",
    "                    \"October\", \"November\", \"December\"]\n",
    "\n",
    "isWeekend :: Date -> Bool\n",
    "isWeekend date =\n",
    "  let (_, _, dayOfWeek) = toWeekDate $ toDay date\n",
    "  in dayOfWeek == 6 || dayOfWeek == 7  -- 6 is Saturday, 7 is Sunday\n",
    "\n",
    "isWorkingDate :: Date -> [Date] -> Bool\n",
    "isWorkingDate date holidays\n",
    "    | date `elem` holidays = False\n",
    "    | otherwise = not $ isWeekend date\n",
    "\n",
    "-- Example usage\n",
    "exampleDate = Date 25 \"December\" 2023 True\n",
    "exampleHolidays = [Date 25 \"December\" 2023 False, Date 1 \"January\" 2024 False]\n",
    "print $ isWorkingDate exampleDate exampleHolidays\n"
   ]
  }
 ],
 "metadata": {
  "kernelspec": {
   "display_name": "Haskell",
   "language": "haskell",
   "name": "haskell"
  },
  "language_info": {
   "codemirror_mode": "ihaskell",
   "file_extension": ".hs",
   "mimetype": "text/x-haskell",
   "name": "haskell",
   "pygments_lexer": "Haskell",
   "version": "9.2.8"
  }
 },
 "nbformat": 4,
 "nbformat_minor": 5
}
